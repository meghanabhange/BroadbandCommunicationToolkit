{
 "cells": [
  {
   "cell_type": "code",
   "execution_count": 1,
   "metadata": {},
   "outputs": [],
   "source": [
    "import pandas as pd\n",
    "import numpy as np"
   ]
  },
  {
   "cell_type": "markdown",
   "metadata": {},
   "source": [
    "# Optical Fibre and It's Properties. \n",
    "\n",
    "## Usage \n",
    "While creating any optical fibre you must provide the following details \n",
    "- n1, n2, and profile type (the default profile is step index)\n",
    "or \n",
    "- n1 and refractive index difference\n",
    "\n",
    "The model will throw an error if incomplete information is provided. \n",
    "\n",
    "ex1\n",
    "\n",
    "`myfibre = OpticalFibre(core_n=1.46, cladding_n=1.39, index=\"Graded\")`\n",
    "\n",
    "ex2\n",
    "\n",
    "`myfibre = OpticalFibre(core_n=1.46, refractive_index_difference=0.01, index=\"Step\")`\n",
    "\n",
    "\n",
    "invalid entry\n",
    "\n",
    "`myfibre = OpticalFibre(index=\"Step\")`\n",
    "\n",
    "or \n",
    "\n",
    "`myfibre = OpticalFibre(refractive_index_difference=0.01, index=\"Step\")`\n",
    "\n",
    "Then you can see all the intrensic model parameters :\n",
    "\n",
    "```\n",
    "Optical Fibre Properties:\n",
    "Critical Angle:72.18602353338088\n",
    "Acceptance Angle:26.52922450390899\n",
    "Numerical Apparture:0.4466542286825459\n",
    "Profile :Graded Index Fibre\n",
    "```\n",
    "\n",
    "Formulas\n",
    "![Imgur](https://i.ibb.co/34Hym0K/Screenshot-2020-03-02-at-1-24-54-AM.png)\n",
    "\n",
    "## Plotting the Profiles\n",
    "\n",
    "**Currently only supporting alpha ==2**\n",
    "\n",
    "The curves can then be plotted by invoking plot_profile method\n",
    "\n",
    "![Graded](https://www.its.bldrdoc.gov/fs-1037/equats/37c_30.gif)\n",
    "\n",
    "`fibre1.plot_profile(core_radius=30, cladding_radius=50)`"
   ]
  },
  {
   "cell_type": "code",
   "execution_count": 208,
   "metadata": {},
   "outputs": [],
   "source": [
    "import math\n",
    "import matplotlib.pyplot as plt\n",
    "\n",
    "\n",
    "class OpticalFibre:\n",
    "    def __init__(\n",
    "        self,\n",
    "        core_n=None,\n",
    "        cladding_n=None,\n",
    "        refractive_index_difference=None,\n",
    "        index=\"Step\",\n",
    "    ):\n",
    "        \"\"\"[summary]\n",
    "        \n",
    "        Keyword Arguments:\n",
    "            index {str} -- Type of the fibre \"Step index\" or \"Graded Index\" (default: {\"Step\"})\n",
    "        \"\"\"\n",
    "        self.index = index\n",
    "        if not (refractive_index_difference):\n",
    "            if not (core_n) or not (cladding_n):\n",
    "                raise ValueError(\n",
    "                    \"Incomplete information\\nPlease Provide either n1, n2 or refractive index difference\"\n",
    "                )\n",
    "            self.n1 = core_n\n",
    "            self.n2 = cladding_n\n",
    "            if self.n1 < self.n2:\n",
    "                raise ValueError(\"Core Refractive Index is greater than cladding\")\n",
    "            self.NA = math.sqrt((self.n1 ** 2) - (self.n2 ** 2))\n",
    "            self.critical_angle = math.degrees(math.asin(self.n2 / self.n1))\n",
    "            self.acceptance_angle = math.degrees(math.asin(self.NA))\n",
    "        else:\n",
    "            if not (refractive_index_difference) or not (core_n):\n",
    "                raise ValueError(\n",
    "                    \"Incomplete information\\nPlease Provide either n1, n2 or refractive index difference\"\n",
    "                )\n",
    "            self.delta = refractive_index_difference\n",
    "            self.n1 = core_n\n",
    "            self.NA = self.n1 * math.sqrt(2 * self.delta)\n",
    "            self.critical_angle = math.degrees(math.asin(1 - self.delta))\n",
    "            self.acceptance_angle = math.degrees(math.asin(self.NA))\n",
    "            self.n2 = self.n1 * (1 - self.delta)\n",
    "\n",
    "        print(f\"Optical Fibre Properties:\")\n",
    "        print(f\"Critical Angle:{self.critical_angle}\")\n",
    "        print(f\"Acceptance Angle:{self.acceptance_angle}\")\n",
    "        print(f\"Numerical Apparture:{self.NA}\")\n",
    "        print(f\"Profile :{self.index} Index Fibre\")\n",
    "\n",
    "    def plot_profile(self, core_radius, cladding_radius, alpha=2):\n",
    "        total_length = int((2 * cladding_radius))\n",
    "        if self.index == \"Step\":\n",
    "            X = [i for i in range(-int(total_length / 2), int(total_length / 2))]\n",
    "            Y = [\n",
    "                self.n2 if ((rad < -core_radius) or (rad > core_radius)) else self.n1\n",
    "                for rad in X\n",
    "            ]\n",
    "        elif self.index == \"Graded\":\n",
    "            self.delta = (self.n1 ** 2 - self.n2 ** 2) / (2 * self.n1 ** 2)\n",
    "            X = [i for i in range(-int(total_length / 2), int(total_length / 2))]\n",
    "            Y = [\n",
    "                self.n1 * (sqrt(1 - 2 * self.delta))\n",
    "                if ((rad < -core_radius) or (rad > core_radius))\n",
    "                else self.n1\n",
    "                * (sqrt(1 - (2 * self.delta * ((rad / core_radius) ** alpha))))\n",
    "                for rad in X\n",
    "            ]\n",
    "        plt.plot(X, Y)\n",
    "        plt.ylabel(\"Refractive Index\")\n",
    "        plt.xlabel(\"Radius\")\n",
    "        plt.show()"
   ]
  },
  {
   "cell_type": "code",
   "execution_count": 219,
   "metadata": {},
   "outputs": [
    {
     "name": "stdout",
     "output_type": "stream",
     "text": [
      "Optical Fibre Properties:\n",
      "Critical Angle:72.18602353338088\n",
      "Acceptance Angle:26.52922450390899\n",
      "Numerical Apparture:0.4466542286825459\n",
      "Profile :Graded Index Fibre\n"
     ]
    }
   ],
   "source": [
    "fibre1 = OpticalFibre(core_n=1.46, cladding_n=1.39, index=\"Graded\")"
   ]
  },
  {
   "cell_type": "code",
   "execution_count": 220,
   "metadata": {},
   "outputs": [
    {
     "data": {
      "image/png": "[encoded data removed]",
      "text/plain": [
       "<Figure size 432x288 with 1 Axes>"
      ]
     },
     "metadata": {
      "needs_background": "light"
     },
     "output_type": "display_data"
    }
   ],
   "source": [
    "fibre1.plot_profile(core_radius=30, cladding_radius=50)"
   ]
  },
  {
   "cell_type": "code",
   "execution_count": null,
   "metadata": {},
   "outputs": [],
   "source": []
  }
 ],
 "metadata": {
  "kernelspec": {
   "display_name": "Python 3",
   "language": "python",
   "name": "python3"
  },
  "language_info": {
   "codemirror_mode": {
    "name": "ipython",
    "version": 3
   },
   "file_extension": ".py",
   "mimetype": "text/x-python",
   "name": "python",
   "nbconvert_exporter": "python",
   "pygments_lexer": "ipython3",
   "version": "3.7.3"
  }
 },
 "nbformat": 4,
 "nbformat_minor": 4
}
