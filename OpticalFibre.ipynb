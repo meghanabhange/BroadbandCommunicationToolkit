{
 "cells": [
  {
   "cell_type": "markdown",
   "metadata": {},
   "source": [
    "# Optical Fibre and It's Properties. \n",
    "\n",
    "## Usage \n",
    "While creating any optical fibre you must provide the following details \n",
    "- n1, n2, and profile type (the default profile is step index)\n",
    "or \n",
    "- n1 and refractive index difference\n",
    "\n",
    "The model will throw an error if incomplete information is provided. \n",
    "\n",
    "ex1\n",
    "\n",
    "`myfibre = OpticalFibre(core_n=1.46, cladding_n=1.39, index=\"Graded\")`\n",
    "\n",
    "ex2\n",
    "\n",
    "`myfibre = OpticalFibre(core_n=1.46, refractive_index_difference=0.01, index=\"Step\")`\n",
    "\n",
    "\n",
    "invalid entry\n",
    "\n",
    "`myfibre = OpticalFibre(index=\"Step\")`\n",
    "\n",
    "or \n",
    "\n",
    "`myfibre = OpticalFibre(refractive_index_difference=0.01, index=\"Step\")`\n",
    "\n",
    "Then you can see all the intrensic model parameters :\n",
    "\n",
    "```\n",
    "Optical Fibre Properties:\n",
    "Critical Angle:72.18602353338088\n",
    "Acceptance Angle:26.52922450390899\n",
    "Numerical Apparture:0.4466542286825459\n",
    "Profile :Graded Index Fibre\n",
    "```\n",
    "\n",
    "Formulas\n",
    "![Imgur](https://i.ibb.co/34Hym0K/Screenshot-2020-03-02-at-1-24-54-AM.png)\n",
    "\n",
    "## Plotting the Profiles\n",
    "\n",
    "**Currently only supporting alpha ==2**\n",
    "\n",
    "The curves can then be plotted by invoking plot_profile method\n",
    "\n",
    "![Graded](https://www.its.bldrdoc.gov/fs-1037/equats/37c_30.gif)\n",
    "\n",
    "`fibre1.plot_profile(core_radius=30, cladding_radius=50)`"
   ]
  },
  {
   "cell_type": "code",
   "execution_count": 1,
   "metadata": {},
   "outputs": [],
   "source": [
    "from opticalfibre import OpticalFibre"
   ]
  },
  {
   "cell_type": "code",
   "execution_count": 5,
   "metadata": {},
   "outputs": [
    {
     "name": "stdout",
     "output_type": "stream",
     "text": [
      "Optical Fibre Properties:\n",
      "Critical Angle:81.89038554400581\n",
      "Acceptance Angle:12.081544981155687\n",
      "Numerical Apparture:0.20930360723121808\n",
      "Profile :Step Index Fibre\n",
      "Normalised Frequency :48.899801094198274\n",
      "Guided Mode :1195\n",
      "Mode :Multi Mode\n"
     ]
    }
   ],
   "source": [
    "# core_n=input(\"Input core refractive index: \")\n",
    "# cladding_n = input(\"Input cladding refractive index: \")\n",
    "# index=input(\"Input profile index Step/Graded: \")\n",
    "#write in micrometer\n",
    "fibre1 = OpticalFibre(\n",
    "    core_radius=(62.5)/2,\n",
    "    cladding_radius=(92.5)/2,\n",
    "    core_n=1.48,\n",
    "    refractive_index_difference=0.01,\n",
    "    index=\"Step\",\n",
    "    wavelength=840e-3,\n",
    ")"
   ]
  },
  {
   "cell_type": "code",
   "execution_count": 6,
   "metadata": {},
   "outputs": [
    {
     "data": {
      "image/png": "[encoded data removed]",
      "text/plain": [
       "<Figure size 432x288 with 1 Axes>"
      ]
     },
     "metadata": {
      "needs_background": "light"
     },
     "output_type": "display_data"
    }
   ],
   "source": [
    "fibre1.plot_profile(alpha=4000)"
   ]
  },
  {
   "cell_type": "code",
   "execution_count": 4,
   "metadata": {},
   "outputs": [],
   "source": [
    "# fibre1.plot_multiple_profile(alphas=[1,2,4,7,10,10000])"
   ]
  },
  {
   "cell_type": "code",
   "execution_count": null,
   "metadata": {},
   "outputs": [],
   "source": []
  }
 ],
 "metadata": {
  "kernelspec": {
   "display_name": "Python 3",
   "language": "python",
   "name": "python3"
  },
  "language_info": {
   "codemirror_mode": {
    "name": "ipython",
    "version": 3
   },
   "file_extension": ".py",
   "mimetype": "text/x-python",
   "name": "python",
   "nbconvert_exporter": "python",
   "pygments_lexer": "ipython3",
   "version": "3.7.3"
  }
 },
 "nbformat": 4,
 "nbformat_minor": 4
}
